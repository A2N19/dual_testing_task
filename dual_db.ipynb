{
 "cells": [
  {
   "cell_type": "code",
   "execution_count": 4,
   "id": "810ba12b-fcc5-45b9-99f2-e158ab30fe3a",
   "metadata": {},
   "outputs": [],
   "source": [
    "import pandas as pd\n",
    "import psycopg2\n",
    "\n",
    "def clean_price(price):\n",
    "    return float(price.replace(' ', '').replace('Т', '').strip())\n",
    "\n",
    "file1 = 'kingfisher_data.csv'\n",
    "file2 = 'kingfisher_data2.csv'\n",
    "\n",
    "df1 = pd.read_csv(file1)\n",
    "df2 = pd.read_csv(file2)\n",
    "\n",
    "merged_df = pd.concat([df1, df2], ignore_index=True)\n",
    "\n",
    "merged_df['Цена продукта'] = merged_df['Цена продукта'].apply(clean_price)\n",
    "\n",
    "connection = psycopg2.connect(\n",
    "    dbname=\"postgres\",\n",
    "    user=\"postgres\",\n",
    "    password=\"123321\",\n",
    "    host=\"localhost\",\n",
    "    port=\"5432\"\n",
    ")\n",
    "\n",
    "cursor = connection.cursor()\n",
    "\n",
    "create_table_query = \"\"\"\n",
    "CREATE TABLE IF NOT EXISTS your_table_name (\n",
    "    product_name VARCHAR(255),\n",
    "    product_category VARCHAR(255),\n",
    "    product_price NUMERIC(10, 2),\n",
    "    city VARCHAR(255)\n",
    ");\n",
    "\"\"\"\n",
    "cursor.execute(create_table_query)\n",
    "connection.commit()\n",
    "\n",
    "for _, row in merged_df.iterrows():\n",
    "    insert_query = \"\"\"\n",
    "    INSERT INTO your_table_name (product_name, product_category, product_price, city)\n",
    "    VALUES (%s, %s, %s, %s);\n",
    "    \"\"\"\n",
    "    cursor.execute(insert_query, (row['Название продукта'], row['Категория продукта'], row['Цена продукта'], row['Город']))\n",
    "    \n",
    "connection.commit()\n",
    "\n",
    "cursor.close()\n",
    "connection.close()\n"
   ]
  }
 ],
 "metadata": {
  "kernelspec": {
   "display_name": "Python 3 (ipykernel)",
   "language": "python",
   "name": "python3"
  },
  "language_info": {
   "codemirror_mode": {
    "name": "ipython",
    "version": 3
   },
   "file_extension": ".py",
   "mimetype": "text/x-python",
   "name": "python",
   "nbconvert_exporter": "python",
   "pygments_lexer": "ipython3",
   "version": "3.11.7"
  }
 },
 "nbformat": 4,
 "nbformat_minor": 5
}
